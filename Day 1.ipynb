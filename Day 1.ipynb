{
 "cells": [
  {
   "cell_type": "code",
   "execution_count": 1,
   "id": "8115b670",
   "metadata": {},
   "outputs": [
    {
     "name": "stdout",
     "output_type": "stream",
     "text": [
      "Hello World\n"
     ]
    }
   ],
   "source": [
    "#print function\n",
    "print('Hello World')"
   ]
  },
  {
   "cell_type": "code",
   "execution_count": 11,
   "id": "8fa634ce",
   "metadata": {},
   "outputs": [
    {
     "name": "stdout",
     "output_type": "stream",
     "text": [
      "what is your nameTolulope\n"
     ]
    }
   ],
   "source": [
    "name = input('what is your name' )"
   ]
  },
  {
   "cell_type": "code",
   "execution_count": 13,
   "id": "b9829132",
   "metadata": {},
   "outputs": [
    {
     "name": "stdout",
     "output_type": "stream",
     "text": [
      "Hello Tolulope\n"
     ]
    }
   ],
   "source": [
    "#concatenation\n",
    "print('Hello' +' ' +'Tolulope')"
   ]
  },
  {
   "cell_type": "code",
   "execution_count": 20,
   "id": "e44d2538",
   "metadata": {},
   "outputs": [
    {
     "name": "stdout",
     "output_type": "stream",
     "text": [
      "What is your name Tolulope\n",
      "8\n"
     ]
    }
   ],
   "source": [
    "#print len of name\n",
    "print(len(input('What is your name ')))"
   ]
  },
  {
   "cell_type": "code",
   "execution_count": 21,
   "id": "f4b7fd3f",
   "metadata": {},
   "outputs": [
    {
     "name": "stdout",
     "output_type": "stream",
     "text": [
      "what is your name? Tolulope\n",
      "8\n"
     ]
    }
   ],
   "source": [
    "#variables\n",
    "name = input('what is your name? ')\n",
    "length = len(name)\n",
    "print(length)"
   ]
  },
  {
   "cell_type": "code",
   "execution_count": 2,
   "id": "7e51b5b7",
   "metadata": {},
   "outputs": [
    {
     "name": "stdout",
     "output_type": "stream",
     "text": [
      "Welcome to Band name Generator\n",
      "What is the name of the city you were born in\n",
      "Manchester\n",
      "What is the name of your pet\n",
      "Milo\n",
      "The band name could be Manchester Milo\n"
     ]
    }
   ],
   "source": [
    "#Creating a band name generator\n",
    "print('Welcome to Band name Generator')\n",
    "city = input('What is the name of the city you were born in\\n')\n",
    "pet = input('What is the name of your pet\\n')\n",
    "print('The band name could be ' + city + ' ' + pet)\n"
   ]
  },
  {
   "cell_type": "code",
   "execution_count": null,
   "id": "2c2b7ab1",
   "metadata": {},
   "outputs": [],
   "source": []
  }
 ],
 "metadata": {
  "kernelspec": {
   "display_name": "Python 3 (ipykernel)",
   "language": "python",
   "name": "python3"
  },
  "language_info": {
   "codemirror_mode": {
    "name": "ipython",
    "version": 3
   },
   "file_extension": ".py",
   "mimetype": "text/x-python",
   "name": "python",
   "nbconvert_exporter": "python",
   "pygments_lexer": "ipython3",
   "version": "3.11.5"
  }
 },
 "nbformat": 4,
 "nbformat_minor": 5
}
